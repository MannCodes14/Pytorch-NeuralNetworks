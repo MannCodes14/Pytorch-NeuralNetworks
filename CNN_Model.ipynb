{
  "nbformat": 4,
  "nbformat_minor": 0,
  "metadata": {
    "colab": {
      "provenance": [],
      "authorship_tag": "ABX9TyNN+clgyEGclO4t5iwHZ9df",
      "include_colab_link": true
    },
    "kernelspec": {
      "name": "python3",
      "display_name": "Python 3"
    },
    "language_info": {
      "name": "python"
    }
  },
  "cells": [
    {
      "cell_type": "markdown",
      "metadata": {
        "id": "view-in-github",
        "colab_type": "text"
      },
      "source": [
        "<a href=\"https://colab.research.google.com/github/MannCodes14/Pytorch-NeuralNetworks/blob/main/CNN_Model.ipynb\" target=\"_parent\"><img src=\"https://colab.research.google.com/assets/colab-badge.svg\" alt=\"Open In Colab\"/></a>"
      ]
    },
    {
      "cell_type": "code",
      "execution_count": 57,
      "metadata": {
        "id": "LkFH8dGxOi_f"
      },
      "outputs": [],
      "source": [
        "import torch\n",
        "import torch.nn as nn\n",
        "import torch.nn.functional as F\n",
        "from torch.utils.data import DataLoader\n",
        "from torchvision import datasets, transforms\n",
        "from torchvision.utils import make_grid\n",
        "import matplotlib.pyplot as plt\n",
        "import numpy as np\n",
        "import pandas as pd\n",
        "from sklearn.metrics import confusion_matrix\n"
      ]
    },
    {
      "cell_type": "code",
      "source": [
        "#convert mnist images files to tensor of 4 dimnesions (images, width, height, color channel)\n",
        "transform = transforms.ToTensor()\n"
      ],
      "metadata": {
        "id": "tT7Li7zuhiAU"
      },
      "execution_count": 58,
      "outputs": []
    },
    {
      "cell_type": "code",
      "source": [
        "#train data\n",
        "train_data = datasets.MNIST(root='/cnn_data', train=True, download=True, transform=transform)"
      ],
      "metadata": {
        "id": "8bvW6Xsehiit"
      },
      "execution_count": 59,
      "outputs": []
    },
    {
      "cell_type": "code",
      "source": [
        "#test data\n",
        "test_data = datasets.MNIST(root='/cnn_data', train=False, download=True, transform=transform)"
      ],
      "metadata": {
        "id": "QFF4Tdshi5bq"
      },
      "execution_count": 60,
      "outputs": []
    },
    {
      "cell_type": "code",
      "source": [
        "train_data"
      ],
      "metadata": {
        "colab": {
          "base_uri": "https://localhost:8080/"
        },
        "id": "6KaMMuBBjj_A",
        "outputId": "5010aedf-9db2-44ac-970d-0677111f99ec"
      },
      "execution_count": 61,
      "outputs": [
        {
          "output_type": "execute_result",
          "data": {
            "text/plain": [
              "Dataset MNIST\n",
              "    Number of datapoints: 60000\n",
              "    Root location: /cnn_data\n",
              "    Split: Train\n",
              "    StandardTransform\n",
              "Transform: ToTensor()"
            ]
          },
          "metadata": {},
          "execution_count": 61
        }
      ]
    },
    {
      "cell_type": "code",
      "source": [
        "test_data"
      ],
      "metadata": {
        "colab": {
          "base_uri": "https://localhost:8080/"
        },
        "id": "90aW9o8Ijpp7",
        "outputId": "230b7118-3965-433d-f977-527394e643ae"
      },
      "execution_count": 62,
      "outputs": [
        {
          "output_type": "execute_result",
          "data": {
            "text/plain": [
              "Dataset MNIST\n",
              "    Number of datapoints: 10000\n",
              "    Root location: /cnn_data\n",
              "    Split: Test\n",
              "    StandardTransform\n",
              "Transform: ToTensor()"
            ]
          },
          "metadata": {},
          "execution_count": 62
        }
      ]
    },
    {
      "cell_type": "code",
      "source": [
        "#Create a small batch size for images\n",
        "train_loader = DataLoader(train_data, batch_size=10, shuffle=True)\n",
        "test_loader = DataLoader(test_data, batch_size=10, shuffle=False)"
      ],
      "metadata": {
        "id": "R0jZqnUYjseM"
      },
      "execution_count": 63,
      "outputs": []
    },
    {
      "cell_type": "code",
      "source": [
        "#creating 2 convolution layers\n",
        "conv1 = nn.Conv2d(in_channels=1, out_channels=6, kernel_size=3, stride=1)\n",
        "conv2 = nn.Conv2d(in_channels=6, out_channels=16, kernel_size=3, stride=1)"
      ],
      "metadata": {
        "id": "is9aeKdcqkU8"
      },
      "execution_count": 64,
      "outputs": []
    },
    {
      "cell_type": "code",
      "source": [
        "#Take 1 MNIST record\n",
        "for i, (X_train, y_train) in enumerate(train_data):\n",
        "  break"
      ],
      "metadata": {
        "id": "Uf9qGH5Lrr6N"
      },
      "execution_count": 65,
      "outputs": []
    },
    {
      "cell_type": "code",
      "source": [
        "# y_train, X_train"
      ],
      "metadata": {
        "id": "BIQfq_UIs7FU"
      },
      "execution_count": 66,
      "outputs": []
    },
    {
      "cell_type": "code",
      "source": [
        "X_train.shape"
      ],
      "metadata": {
        "colab": {
          "base_uri": "https://localhost:8080/"
        },
        "id": "OqHA8yQPs8ZB",
        "outputId": "e10620a2-3ec2-4d38-b857-459fa40c27ec"
      },
      "execution_count": 67,
      "outputs": [
        {
          "output_type": "execute_result",
          "data": {
            "text/plain": [
              "torch.Size([1, 28, 28])"
            ]
          },
          "metadata": {},
          "execution_count": 67
        }
      ]
    },
    {
      "cell_type": "code",
      "source": [
        "#convert it to 4 dimension\n",
        "\n",
        "x = X_train.view(1,1,28,28)"
      ],
      "metadata": {
        "id": "KbCWy8RNtoav"
      },
      "execution_count": 68,
      "outputs": []
    },
    {
      "cell_type": "code",
      "source": [
        "#Perform 1st Convolution\n",
        "x = F.relu(conv1(x))"
      ],
      "metadata": {
        "id": "m9H9MHwgt2f4"
      },
      "execution_count": 69,
      "outputs": []
    },
    {
      "cell_type": "code",
      "source": [
        "# 1 -> single image, 6 -> image filters, 26 -> width, 26 -> height\n",
        "x.shape"
      ],
      "metadata": {
        "colab": {
          "base_uri": "https://localhost:8080/"
        },
        "id": "owCm8O2UuQVe",
        "outputId": "4c30ad10-cb7d-4dfe-98a0-59491f9907df"
      },
      "execution_count": 70,
      "outputs": [
        {
          "output_type": "execute_result",
          "data": {
            "text/plain": [
              "torch.Size([1, 6, 26, 26])"
            ]
          },
          "metadata": {},
          "execution_count": 70
        }
      ]
    },
    {
      "cell_type": "code",
      "source": [
        "#Pass thru Pooling layer\n",
        "x = F.max_pool2d(x, 2, 2) #x -> image feature, 2 -> kernel_size, 2-> stride_size"
      ],
      "metadata": {
        "id": "NxqVSmtpuTso"
      },
      "execution_count": 71,
      "outputs": []
    },
    {
      "cell_type": "code",
      "source": [
        "x.shape # 26/2 = 13"
      ],
      "metadata": {
        "colab": {
          "base_uri": "https://localhost:8080/"
        },
        "id": "JCRqkD6wvD3L",
        "outputId": "0b4e51ff-e2ee-4c28-e7a3-26a8fcd0d08d"
      },
      "execution_count": 72,
      "outputs": [
        {
          "output_type": "execute_result",
          "data": {
            "text/plain": [
              "torch.Size([1, 6, 13, 13])"
            ]
          },
          "metadata": {},
          "execution_count": 72
        }
      ]
    },
    {
      "cell_type": "code",
      "source": [
        "#Do our 2nd Convolution layer\n",
        "x = F.relu(conv2(x))"
      ],
      "metadata": {
        "id": "3FEYW3V_vIeo"
      },
      "execution_count": 73,
      "outputs": []
    },
    {
      "cell_type": "code",
      "source": [
        "x.shape #above we havent set the padding, so there is some loss of the margin, as for now there is no crucial data at the margin so its okk :)"
      ],
      "metadata": {
        "colab": {
          "base_uri": "https://localhost:8080/"
        },
        "id": "ofGSIJ1WwwFf",
        "outputId": "fff4aba8-e7ba-4894-dc60-24e72f7f7d5f"
      },
      "execution_count": 74,
      "outputs": [
        {
          "output_type": "execute_result",
          "data": {
            "text/plain": [
              "torch.Size([1, 16, 11, 11])"
            ]
          },
          "metadata": {},
          "execution_count": 74
        }
      ]
    },
    {
      "cell_type": "code",
      "source": [
        "x = F.max_pool2d(x, 2, 2)"
      ],
      "metadata": {
        "id": "jb_vl8SwwzsU"
      },
      "execution_count": 75,
      "outputs": []
    },
    {
      "cell_type": "code",
      "source": [
        "x.shape"
      ],
      "metadata": {
        "colab": {
          "base_uri": "https://localhost:8080/"
        },
        "id": "WiSDTXJhxIzq",
        "outputId": "dc7c523d-9d9d-45fb-b784-c24a7c5572a0"
      },
      "execution_count": 76,
      "outputs": [
        {
          "output_type": "execute_result",
          "data": {
            "text/plain": [
              "torch.Size([1, 16, 5, 5])"
            ]
          },
          "metadata": {},
          "execution_count": 76
        }
      ]
    },
    {
      "cell_type": "code",
      "source": [],
      "metadata": {
        "id": "OnD0rbQHxJtj"
      },
      "execution_count": 76,
      "outputs": []
    },
    {
      "cell_type": "code",
      "source": [
        "#Creating a Model Class\n",
        "class ConvolutionNetwork(nn.Module):\n",
        "  def __init__(self):\n",
        "    super().__init__()\n",
        "\n",
        "    self.conv1 = nn.Conv2d(1,6,3,1)\n",
        "    self.conv2 = nn.Conv2d(6,16,3,1)\n",
        "\n",
        "    self.fc1 = nn.Linear(5*5*16, 120)\n",
        "    self.fc2 = nn.Linear(120, 84)\n",
        "    self.fc3 = nn.Linear(84, 10)\n",
        "\n",
        "  def forward(self, X):\n",
        "    X = F.relu(self.conv1(X))\n",
        "    X = F.max_pool2d(X, 2, 2)\n",
        "    X = F.relu(self.conv2(X))\n",
        "    X = F.max_pool2d(X, 2, 2)\n",
        "\n",
        "    #we need to flatten it out\n",
        "    X = X.view(-1, 16*5*5)\n",
        "\n",
        "    #send it to the NN\n",
        "    X = F.relu(self.fc1(X))\n",
        "    X = F.relu(self.fc2(X))\n",
        "    X = self.fc3(X)\n",
        "\n",
        "    return F.log_softmax(X, dim=1)\n",
        "\n"
      ],
      "metadata": {
        "id": "c0k_GByVxTxn"
      },
      "execution_count": 77,
      "outputs": []
    },
    {
      "cell_type": "code",
      "source": [
        "#create an innstanse of the model class\n",
        "torch.manual_seed(87)\n",
        "model = ConvolutionNetwork()"
      ],
      "metadata": {
        "id": "iJPCrZfD1NyA"
      },
      "execution_count": 78,
      "outputs": []
    },
    {
      "cell_type": "code",
      "source": [
        "model"
      ],
      "metadata": {
        "colab": {
          "base_uri": "https://localhost:8080/"
        },
        "id": "ql9l_8Gv1SCI",
        "outputId": "37826217-998f-4c69-983c-c1537dbaa9bf"
      },
      "execution_count": 79,
      "outputs": [
        {
          "output_type": "execute_result",
          "data": {
            "text/plain": [
              "ConvolutionNetwork(\n",
              "  (conv1): Conv2d(1, 6, kernel_size=(3, 3), stride=(1, 1))\n",
              "  (conv2): Conv2d(6, 16, kernel_size=(3, 3), stride=(1, 1))\n",
              "  (fc1): Linear(in_features=400, out_features=120, bias=True)\n",
              "  (fc2): Linear(in_features=120, out_features=84, bias=True)\n",
              "  (fc3): Linear(in_features=84, out_features=10, bias=True)\n",
              ")"
            ]
          },
          "metadata": {},
          "execution_count": 79
        }
      ]
    },
    {
      "cell_type": "code",
      "source": [
        "#Loss Opmtimizer\n",
        "criterion = nn.CrossEntropyLoss()\n",
        "optimizer = torch.optim.Adam(model.parameters(), lr=0.001) #small the learning rate, more time it will take to learn"
      ],
      "metadata": {
        "id": "IxdnqxS-1jsB"
      },
      "execution_count": 80,
      "outputs": []
    },
    {
      "cell_type": "code",
      "source": [
        "import time\n",
        "start_time = time.time()\n",
        "\n",
        "#define variables for tracking\n",
        "\n",
        "epochs = 5\n",
        "train_losses = []\n",
        "test_losses = []\n",
        "train_correct = []\n",
        "test_correct = []\n",
        "\n",
        "# for loop for epochs\n",
        "for i in range(epochs):\n",
        "  trn_corr = 0\n",
        "  tst_corr = 0\n",
        "\n",
        "  # train\n",
        "  for b, (X_train, y_train) in enumerate(train_loader):\n",
        "    b+=1\n",
        "\n",
        "    # apply model\n",
        "    y_pred = model(X_train) #get predicted values from the X_train\n",
        "\n",
        "    loss = criterion(y_pred, y_train) #Compare the predictions to correct ans\n",
        "    predicted = torch.max(y_pred, 1)[1] # torch.max() returns 2 values, 1-> maximum value, 2-> the indices of the value, [1]: This indexing selects the second element returned by torch.max, which are the indices of the maximum values. These indices correspond to the predicted class labels.\n",
        "    batch_corr = (predicted == y_train).sum() #how many are correct, true = 1 and false = 0, sum it and store it in the current batch\n",
        "    trn_corr += batch_corr #keep track\n",
        "\n",
        "\n",
        "    # update parameters\n",
        "    optimizer.zero_grad()\n",
        "    loss.backward()\n",
        "    optimizer.step()\n",
        "\n",
        "\n",
        "    # printout some results\n",
        "    if b%600 == 0:\n",
        "      print(f'epoch: {i}  batch: {b}  loss: {loss.item()}')\n",
        "  train_losses.append(loss)\n",
        "  train_correct.append(trn_corr)\n",
        "\n",
        "  # test\n",
        "  with torch.no_grad():\n",
        "    for b, (X_test, y_test) in enumerate(test_loader):\n",
        "      y_val = model(X_test)\n",
        "      predicted = torch.max(y_val, 1)[1] #torch.max() returns 2 values, 1-> maximum value, 2-> the indices of the value, [1]: This indexing selects the second element returned by torch.max, which are the indices[labels] of the maximum values. These indices correspond to the predicted class labels.\n",
        "      tst_corr += (predicted == y_test).sum()\n",
        "\n",
        "  loss = criterion(y_val, y_test)\n",
        "  test_losses.append(loss)\n",
        "  test_correct.append(tst_corr)\n",
        "\n",
        "\n",
        "\n",
        "current_time = time.time()\n",
        "epoch_time = current_time - start_time\n",
        "print(f'total time: {epoch_time/60} minutes')\n"
      ],
      "metadata": {
        "colab": {
          "base_uri": "https://localhost:8080/"
        },
        "collapsed": true,
        "id": "KPlOH6t12NPt",
        "outputId": "e1ffb167-f920-44c1-b7f8-c0c9e2821899"
      },
      "execution_count": 81,
      "outputs": [
        {
          "output_type": "stream",
          "name": "stdout",
          "text": [
            "epoch: 0  batch: 600  loss: 0.46691375970840454\n",
            "epoch: 0  batch: 1200  loss: 0.01877090334892273\n",
            "epoch: 0  batch: 1800  loss: 0.5251601934432983\n",
            "epoch: 0  batch: 2400  loss: 0.21127578616142273\n",
            "epoch: 0  batch: 3000  loss: 0.011143305338919163\n",
            "epoch: 0  batch: 3600  loss: 0.0014362346846610308\n",
            "epoch: 0  batch: 4200  loss: 0.0547763928771019\n",
            "epoch: 0  batch: 4800  loss: 0.10175986588001251\n",
            "epoch: 0  batch: 5400  loss: 0.17878961563110352\n",
            "epoch: 0  batch: 6000  loss: 0.021118860691785812\n",
            "epoch: 1  batch: 600  loss: 0.020726488903164864\n",
            "epoch: 1  batch: 1200  loss: 0.18972620368003845\n",
            "epoch: 1  batch: 1800  loss: 0.170523539185524\n",
            "epoch: 1  batch: 2400  loss: 0.030440520495176315\n",
            "epoch: 1  batch: 3000  loss: 0.002945380052551627\n",
            "epoch: 1  batch: 3600  loss: 0.00859561376273632\n",
            "epoch: 1  batch: 4200  loss: 0.0007154690101742744\n",
            "epoch: 1  batch: 4800  loss: 0.06070289760828018\n",
            "epoch: 1  batch: 5400  loss: 0.020454173907637596\n",
            "epoch: 1  batch: 6000  loss: 0.0011517739621922374\n",
            "epoch: 2  batch: 600  loss: 0.13271375000476837\n",
            "epoch: 2  batch: 1200  loss: 0.003433419857174158\n",
            "epoch: 2  batch: 1800  loss: 0.0013895712327212095\n",
            "epoch: 2  batch: 2400  loss: 0.0009726941352710128\n",
            "epoch: 2  batch: 3000  loss: 0.0024636946618556976\n",
            "epoch: 2  batch: 3600  loss: 0.26481395959854126\n",
            "epoch: 2  batch: 4200  loss: 0.0004803811607416719\n",
            "epoch: 2  batch: 4800  loss: 0.479351282119751\n",
            "epoch: 2  batch: 5400  loss: 0.00017706214566715062\n",
            "epoch: 2  batch: 6000  loss: 0.08525662124156952\n",
            "epoch: 3  batch: 600  loss: 0.006010979879647493\n",
            "epoch: 3  batch: 1200  loss: 0.0011967127211391926\n",
            "epoch: 3  batch: 1800  loss: 0.0038384622894227505\n",
            "epoch: 3  batch: 2400  loss: 0.01703549548983574\n",
            "epoch: 3  batch: 3000  loss: 0.0010560456430539489\n",
            "epoch: 3  batch: 3600  loss: 0.0017651377711445093\n",
            "epoch: 3  batch: 4200  loss: 0.0031345996540039778\n",
            "epoch: 3  batch: 4800  loss: 0.0004245161544531584\n",
            "epoch: 3  batch: 5400  loss: 0.012469588778913021\n",
            "epoch: 3  batch: 6000  loss: 0.00274294288828969\n",
            "epoch: 4  batch: 600  loss: 0.05299345776438713\n",
            "epoch: 4  batch: 1200  loss: 0.0002208434307249263\n",
            "epoch: 4  batch: 1800  loss: 0.000597613281570375\n",
            "epoch: 4  batch: 2400  loss: 0.0013329318026080728\n",
            "epoch: 4  batch: 3000  loss: 0.0021413571666926146\n",
            "epoch: 4  batch: 3600  loss: 8.21985668153502e-05\n",
            "epoch: 4  batch: 4200  loss: 0.17441681027412415\n",
            "epoch: 4  batch: 4800  loss: 0.03374207764863968\n",
            "epoch: 4  batch: 5400  loss: 0.0006184116355143487\n",
            "epoch: 4  batch: 6000  loss: 0.0006606304668821394\n",
            "total time: 3.7776413202285766 minutes\n"
          ]
        }
      ]
    },
    {
      "cell_type": "code",
      "source": [
        "# y_pred"
      ],
      "metadata": {
        "id": "nOVAVKlJ5uuQ"
      },
      "execution_count": 82,
      "outputs": []
    },
    {
      "cell_type": "code",
      "source": [
        "# y_train"
      ],
      "metadata": {
        "id": "aHH8J2_j-Y7V"
      },
      "execution_count": 83,
      "outputs": []
    },
    {
      "cell_type": "code",
      "source": [
        "#convert train_losses in to python list\n",
        "\n",
        "# to be run only once, since after that the train_losses will contain the values already\n",
        "train_losses = [t.item() for t in train_losses]\n",
        "test_losses = [t.item() for t in test_losses]\n",
        "\n",
        "plt.plot(train_losses, label='train loss')\n",
        "plt.plot(test_losses, label='test loss')\n",
        "plt.legend()\n",
        "plt.title('Loss')"
      ],
      "metadata": {
        "colab": {
          "base_uri": "https://localhost:8080/",
          "height": 469
        },
        "id": "QaWkvIQ-_WBC",
        "outputId": "a6b98c98-79fc-4fa8-cf34-36db32065bfb"
      },
      "execution_count": 85,
      "outputs": [
        {
          "output_type": "execute_result",
          "data": {
            "text/plain": [
              "Text(0.5, 1.0, 'Loss')"
            ]
          },
          "metadata": {},
          "execution_count": 85
        },
        {
          "output_type": "display_data",
          "data": {
            "text/plain": [
              "<Figure size 640x480 with 1 Axes>"
            ],
            "image/png": "[encoded data removed]"
          },
          "metadata": {}
        }
      ]
    },
    {
      "cell_type": "code",
      "source": [],
      "metadata": {
        "id": "cUfvuuFla3FK"
      },
      "execution_count": null,
      "outputs": []
    },
    {
      "cell_type": "code",
      "source": [
        "plt.plot([t4/600 for t4 in train_correct], label = \"train accuracy\")\n",
        "plt.plot([t5/100 for t5 in test_correct], label = \"test accuracy\")\n",
        "plt.legend()\n",
        "plt.title(\"Accuracy\")"
      ],
      "metadata": {
        "colab": {
          "base_uri": "https://localhost:8080/",
          "height": 469
        },
        "id": "DGh_Q4K4fRDa",
        "outputId": "a3767785-854e-4e4e-bedc-550046405ada"
      },
      "execution_count": 86,
      "outputs": [
        {
          "output_type": "execute_result",
          "data": {
            "text/plain": [
              "Text(0.5, 1.0, 'Accuracy')"
            ]
          },
          "metadata": {},
          "execution_count": 86
        },
        {
          "output_type": "display_data",
          "data": {
            "text/plain": [
              "<Figure size 640x480 with 1 Axes>"
            ],
            "image/png": "[encoded data removed]"
          },
          "metadata": {}
        }
      ]
    },
    {
      "cell_type": "code",
      "source": [
        "test_load_everthing = DataLoader(test_data, batch_size=10000, shuffle=False)\n"
      ],
      "metadata": {
        "id": "DQKu_9O_hMW_"
      },
      "execution_count": 87,
      "outputs": []
    },
    {
      "cell_type": "code",
      "source": [
        "with torch.no_grad():\n",
        "  correct = 0\n",
        "  for X_test, y_test in test_load_everthing:\n",
        "    y_val = model(X_test)\n",
        "    predicted = torch.max(y_val, 1)[1]\n",
        "    correct += (predicted == y_test).sum()\n",
        "\n"
      ],
      "metadata": {
        "id": "2E01604IjCzV"
      },
      "execution_count": 89,
      "outputs": []
    },
    {
      "cell_type": "code",
      "source": [
        "correct.item()/len(test_data)*100"
      ],
      "metadata": {
        "colab": {
          "base_uri": "https://localhost:8080/"
        },
        "id": "aKuovyY2juyP",
        "outputId": "4b22bcc5-0f94-4249-ec02-8b5779baade7"
      },
      "execution_count": 91,
      "outputs": [
        {
          "output_type": "execute_result",
          "data": {
            "text/plain": [
              "98.69"
            ]
          },
          "metadata": {},
          "execution_count": 91
        }
      ]
    },
    {
      "cell_type": "code",
      "source": [
        "#Grab an image\n",
        "test_data[1011][0].reshape(1,1,28,28)"
      ],
      "metadata": {
        "colab": {
          "base_uri": "https://localhost:8080/"
        },
        "id": "qzbCF_y3j_Sj",
        "outputId": "f23feb84-a219-4268-e30e-7c62eff75dd6"
      },
      "execution_count": 94,
      "outputs": [
        {
          "output_type": "execute_result",
          "data": {
            "text/plain": [
              "tensor([[[[0.0000, 0.0000, 0.0000, 0.0000, 0.0000, 0.0000, 0.0000, 0.0000,\n",
              "           0.0000, 0.0000, 0.0000, 0.0000, 0.0000, 0.0000, 0.0000, 0.0000,\n",
              "           0.0000, 0.0000, 0.0000, 0.0000, 0.0000, 0.0000, 0.0000, 0.0000,\n",
              "           0.0000, 0.0000, 0.0000, 0.0000],\n",
              "          [0.0000, 0.0000, 0.0000, 0.0000, 0.0000, 0.0000, 0.0000, 0.0000,\n",
              "           0.0000, 0.0000, 0.0000, 0.0000, 0.0000, 0.0000, 0.0000, 0.0000,\n",
              "           0.0000, 0.0000, 0.0000, 0.0000, 0.0000, 0.0000, 0.0000, 0.0000,\n",
              "           0.0000, 0.0000, 0.0000, 0.0000],\n",
              "          [0.0000, 0.0000, 0.0000, 0.0000, 0.0000, 0.0000, 0.0000, 0.0000,\n",
              "           0.0000, 0.0000, 0.0000, 0.0000, 0.0000, 0.0000, 0.0000, 0.0000,\n",
              "           0.0000, 0.0000, 0.0000, 0.0000, 0.0000, 0.0000, 0.0000, 0.0000,\n",
              "           0.0000, 0.0000, 0.0000, 0.0000],\n",
              "          [0.0000, 0.0000, 0.0000, 0.0000, 0.0000, 0.0000, 0.0000, 0.0000,\n",
              "           0.0000, 0.0000, 0.0000, 0.0000, 0.0000, 0.0000, 0.0000, 0.0000,\n",
              "           0.0000, 0.0000, 0.0000, 0.0000, 0.0000, 0.0000, 0.0000, 0.0000,\n",
              "           0.0000, 0.0000, 0.0000, 0.0000],\n",
              "          [0.0000, 0.0000, 0.0000, 0.0000, 0.0000, 0.0000, 0.0000, 0.0000,\n",
              "           0.0000, 0.0000, 0.0000, 0.0000, 0.0000, 0.9490, 1.0000, 0.6706,\n",
              "           0.0000, 0.0000, 0.0000, 0.0000, 0.0000, 0.0000, 0.0000, 0.0000,\n",
              "           0.0000, 0.0000, 0.0000, 0.0000],\n",
              "          [0.0000, 0.0000, 0.0000, 0.0000, 0.0000, 0.0000, 0.0000, 0.0000,\n",
              "           0.0000, 0.0000, 0.0000, 0.0000, 0.0000, 0.9451, 0.9922, 0.8941,\n",
              "           0.0000, 0.0000, 0.0000, 0.0000, 0.0000, 0.0000, 0.0000, 0.0000,\n",
              "           0.0000, 0.0000, 0.0000, 0.0000],\n",
              "          [0.0000, 0.0000, 0.0000, 0.0000, 0.0000, 0.0000, 0.0000, 0.0000,\n",
              "           0.0000, 0.0000, 0.0000, 0.0000, 0.0627, 0.9529, 0.9922, 0.8941,\n",
              "           0.0000, 0.0000, 0.0000, 0.0000, 0.0000, 0.0000, 0.0000, 0.0000,\n",
              "           0.0000, 0.0000, 0.0000, 0.0000],\n",
              "          [0.0000, 0.0000, 0.0000, 0.0000, 0.0000, 0.0000, 0.0000, 0.0000,\n",
              "           0.0000, 0.0000, 0.0000, 0.0000, 0.4275, 0.9882, 0.9922, 0.8941,\n",
              "           0.0000, 0.0000, 0.0000, 0.0000, 0.0000, 0.0000, 0.0000, 0.0000,\n",
              "           0.0000, 0.0000, 0.0000, 0.0000],\n",
              "          [0.0000, 0.0000, 0.0000, 0.0000, 0.0000, 0.0000, 0.0000, 0.0000,\n",
              "           0.0000, 0.0000, 0.0000, 0.0000, 0.4275, 0.9882, 0.9922, 0.8941,\n",
              "           0.0000, 0.0000, 0.0000, 0.0000, 0.0000, 0.0000, 0.0000, 0.0000,\n",
              "           0.0000, 0.0000, 0.0000, 0.0000],\n",
              "          [0.0000, 0.0000, 0.0000, 0.0000, 0.0000, 0.0000, 0.0000, 0.0000,\n",
              "           0.0000, 0.0000, 0.0000, 0.0000, 0.3059, 0.9765, 0.9922, 0.8941,\n",
              "           0.0000, 0.0000, 0.0000, 0.0000, 0.0000, 0.0000, 0.0000, 0.0000,\n",
              "           0.0000, 0.0000, 0.0000, 0.0000],\n",
              "          [0.0000, 0.0000, 0.0000, 0.0000, 0.0000, 0.0000, 0.0000, 0.0000,\n",
              "           0.0000, 0.0000, 0.0000, 0.0000, 0.3490, 0.9804, 0.9922, 0.8941,\n",
              "           0.0000, 0.0000, 0.0000, 0.0000, 0.0000, 0.0000, 0.0000, 0.0000,\n",
              "           0.0000, 0.0000, 0.0000, 0.0000],\n",
              "          [0.0000, 0.0000, 0.0000, 0.0000, 0.0000, 0.0000, 0.0000, 0.0000,\n",
              "           0.0000, 0.0000, 0.0000, 0.0000, 0.4275, 0.9882, 0.9922, 0.8941,\n",
              "           0.0000, 0.0000, 0.0000, 0.0000, 0.0000, 0.0000, 0.0000, 0.0000,\n",
              "           0.0000, 0.0000, 0.0000, 0.0000],\n",
              "          [0.0000, 0.0000, 0.0000, 0.0000, 0.0000, 0.0000, 0.0000, 0.0000,\n",
              "           0.0000, 0.0000, 0.0000, 0.0000, 0.4275, 0.9882, 0.9922, 0.8941,\n",
              "           0.0000, 0.0000, 0.0000, 0.0000, 0.0000, 0.0000, 0.0000, 0.0000,\n",
              "           0.0000, 0.0000, 0.0000, 0.0000],\n",
              "          [0.0000, 0.0000, 0.0000, 0.0000, 0.0000, 0.0000, 0.0000, 0.0000,\n",
              "           0.0000, 0.0000, 0.0000, 0.0000, 0.4275, 0.9882, 0.9922, 0.8941,\n",
              "           0.0000, 0.0000, 0.0000, 0.0000, 0.0000, 0.0000, 0.0000, 0.0000,\n",
              "           0.0000, 0.0000, 0.0000, 0.0000],\n",
              "          [0.0000, 0.0000, 0.0000, 0.0000, 0.0000, 0.0000, 0.0000, 0.0000,\n",
              "           0.0000, 0.0000, 0.0000, 0.0000, 0.4314, 0.9922, 1.0000, 0.8980,\n",
              "           0.0000, 0.0000, 0.0000, 0.0000, 0.0000, 0.0000, 0.0000, 0.0000,\n",
              "           0.0000, 0.0000, 0.0000, 0.0000],\n",
              "          [0.0000, 0.0000, 0.0000, 0.0000, 0.0000, 0.0000, 0.0000, 0.0000,\n",
              "           0.0000, 0.0000, 0.0000, 0.0000, 0.6980, 0.9882, 0.9922, 0.8941,\n",
              "           0.0000, 0.0000, 0.0000, 0.0000, 0.0000, 0.0000, 0.0000, 0.0000,\n",
              "           0.0000, 0.0000, 0.0000, 0.0000],\n",
              "          [0.0000, 0.0000, 0.0000, 0.0000, 0.0000, 0.0000, 0.0000, 0.0000,\n",
              "           0.0000, 0.0000, 0.0000, 0.0000, 0.8980, 0.9882, 0.9922, 0.8941,\n",
              "           0.0000, 0.0000, 0.0000, 0.0000, 0.0000, 0.0000, 0.0000, 0.0000,\n",
              "           0.0000, 0.0000, 0.0000, 0.0000],\n",
              "          [0.0000, 0.0000, 0.0000, 0.0000, 0.0000, 0.0000, 0.0000, 0.0000,\n",
              "           0.0000, 0.0000, 0.0000, 0.0000, 0.8980, 0.9882, 0.9922, 0.8941,\n",
              "           0.0000, 0.0000, 0.0000, 0.0000, 0.0000, 0.0000, 0.0000, 0.0000,\n",
              "           0.0000, 0.0000, 0.0000, 0.0000],\n",
              "          [0.0000, 0.0000, 0.0000, 0.0000, 0.0000, 0.0000, 0.0000, 0.0000,\n",
              "           0.0000, 0.0000, 0.0000, 0.2745, 0.9647, 0.9882, 0.9922, 0.8941,\n",
              "           0.0000, 0.0000, 0.0000, 0.0000, 0.0000, 0.0000, 0.0000, 0.0000,\n",
              "           0.0000, 0.0000, 0.0000, 0.0000],\n",
              "          [0.0000, 0.0000, 0.0000, 0.0000, 0.0000, 0.0000, 0.0000, 0.0000,\n",
              "           0.0000, 0.0000, 0.0000, 0.0902, 0.9176, 0.9882, 0.9922, 0.9216,\n",
              "           0.1098, 0.0000, 0.0000, 0.0000, 0.0000, 0.0000, 0.0000, 0.0000,\n",
              "           0.0000, 0.0000, 0.0000, 0.0000],\n",
              "          [0.0000, 0.0000, 0.0000, 0.0000, 0.0000, 0.0000, 0.0000, 0.0000,\n",
              "           0.0000, 0.0000, 0.0000, 0.0000, 0.8980, 0.9882, 0.9922, 0.9882,\n",
              "           0.3765, 0.0000, 0.0000, 0.0000, 0.0000, 0.0000, 0.0000, 0.0000,\n",
              "           0.0000, 0.0000, 0.0000, 0.0000],\n",
              "          [0.0000, 0.0000, 0.0000, 0.0000, 0.0000, 0.0000, 0.0000, 0.0000,\n",
              "           0.0000, 0.0000, 0.0000, 0.0000, 0.8980, 0.9882, 0.9922, 0.9882,\n",
              "           0.3765, 0.0000, 0.0000, 0.0000, 0.0000, 0.0000, 0.0000, 0.0000,\n",
              "           0.0000, 0.0000, 0.0000, 0.0000],\n",
              "          [0.0000, 0.0000, 0.0000, 0.0000, 0.0000, 0.0000, 0.0000, 0.0000,\n",
              "           0.0000, 0.0000, 0.0000, 0.0000, 0.4706, 0.9882, 0.9922, 0.9020,\n",
              "           0.0353, 0.0000, 0.0000, 0.0000, 0.0000, 0.0000, 0.0000, 0.0000,\n",
              "           0.0000, 0.0000, 0.0000, 0.0000],\n",
              "          [0.0000, 0.0000, 0.0000, 0.0000, 0.0000, 0.0000, 0.0000, 0.0000,\n",
              "           0.0000, 0.0000, 0.0000, 0.0000, 0.2235, 0.9686, 0.9725, 0.4706,\n",
              "           0.0000, 0.0000, 0.0000, 0.0000, 0.0000, 0.0000, 0.0000, 0.0000,\n",
              "           0.0000, 0.0000, 0.0000, 0.0000],\n",
              "          [0.0000, 0.0000, 0.0000, 0.0000, 0.0000, 0.0000, 0.0000, 0.0000,\n",
              "           0.0000, 0.0000, 0.0000, 0.0000, 0.0000, 0.0000, 0.0000, 0.0000,\n",
              "           0.0000, 0.0000, 0.0000, 0.0000, 0.0000, 0.0000, 0.0000, 0.0000,\n",
              "           0.0000, 0.0000, 0.0000, 0.0000],\n",
              "          [0.0000, 0.0000, 0.0000, 0.0000, 0.0000, 0.0000, 0.0000, 0.0000,\n",
              "           0.0000, 0.0000, 0.0000, 0.0000, 0.0000, 0.0000, 0.0000, 0.0000,\n",
              "           0.0000, 0.0000, 0.0000, 0.0000, 0.0000, 0.0000, 0.0000, 0.0000,\n",
              "           0.0000, 0.0000, 0.0000, 0.0000],\n",
              "          [0.0000, 0.0000, 0.0000, 0.0000, 0.0000, 0.0000, 0.0000, 0.0000,\n",
              "           0.0000, 0.0000, 0.0000, 0.0000, 0.0000, 0.0000, 0.0000, 0.0000,\n",
              "           0.0000, 0.0000, 0.0000, 0.0000, 0.0000, 0.0000, 0.0000, 0.0000,\n",
              "           0.0000, 0.0000, 0.0000, 0.0000],\n",
              "          [0.0000, 0.0000, 0.0000, 0.0000, 0.0000, 0.0000, 0.0000, 0.0000,\n",
              "           0.0000, 0.0000, 0.0000, 0.0000, 0.0000, 0.0000, 0.0000, 0.0000,\n",
              "           0.0000, 0.0000, 0.0000, 0.0000, 0.0000, 0.0000, 0.0000, 0.0000,\n",
              "           0.0000, 0.0000, 0.0000, 0.0000]]]])"
            ]
          },
          "metadata": {},
          "execution_count": 94
        }
      ]
    },
    {
      "cell_type": "code",
      "source": [
        "plt.imshow(test_data[5345][0].reshape(28,28), cmap='gray')\n",
        "#"
      ],
      "metadata": {
        "colab": {
          "base_uri": "https://localhost:8080/",
          "height": 447
        },
        "id": "ogTwKajOokKS",
        "outputId": "5aa38b00-bd81-462f-bda6-acd817c99785"
      },
      "execution_count": 101,
      "outputs": [
        {
          "output_type": "execute_result",
          "data": {
            "text/plain": [
              "<matplotlib.image.AxesImage at 0x785b752472e0>"
            ]
          },
          "metadata": {},
          "execution_count": 101
        },
        {
          "output_type": "display_data",
          "data": {
            "text/plain": [
              "<Figure size 640x480 with 1 Axes>"
            ],
            "image/png": "[encoded data removed]"
          },
          "metadata": {}
        }
      ]
    },
    {
      "cell_type": "code",
      "source": [
        "model.eval()\n",
        "with torch.no_grad():\n",
        "  newPredicted = model(test_data[5345][0].reshape(1,1,28,28))\n",
        "\n",
        "newPredicted"
      ],
      "metadata": {
        "colab": {
          "base_uri": "https://localhost:8080/"
        },
        "id": "uBcA8Lb0o5VJ",
        "outputId": "822b6a27-551a-4ec0-f56a-9cf53b2c752d"
      },
      "execution_count": 102,
      "outputs": [
        {
          "output_type": "execute_result",
          "data": {
            "text/plain": [
              "tensor([[-2.0632e+01, -1.8643e+01, -1.6921e+01, -1.9257e+01, -2.2888e-05,\n",
              "         -1.1962e+01, -1.2999e+01, -1.4547e+01, -1.8947e+01, -1.1192e+01]])"
            ]
          },
          "metadata": {},
          "execution_count": 102
        }
      ]
    },
    {
      "cell_type": "code",
      "source": [
        "newPredicted.argmax()"
      ],
      "metadata": {
        "colab": {
          "base_uri": "https://localhost:8080/"
        },
        "id": "RJHbaAGApJgj",
        "outputId": "488270de-033e-422d-b332-cd7c259be8d8"
      },
      "execution_count": 103,
      "outputs": [
        {
          "output_type": "execute_result",
          "data": {
            "text/plain": [
              "tensor(4)"
            ]
          },
          "metadata": {},
          "execution_count": 103
        }
      ]
    },
    {
      "cell_type": "code",
      "source": [
        "#Trying to get an image from internet\n",
        "import requests\n",
        "from PIL import Image #pillow is used to manipulate imaGES OF ANY FORMAT(png jpg etc.)\n",
        "import io\n",
        "\n",
        "# Function to download image from URL\n",
        "def download_image(url):\n",
        "    response = requests.get(url)\n",
        "    img = Image.open(io.BytesIO(response.content))#in comments\n",
        "    return img\n",
        "\n",
        "# Function to preprocess the image\n",
        "def preprocess_image(img):\n",
        "    img = img.convert('L')  # Convert to grayscale\n",
        "    img = img.resize((28, 28))  # Resize to 28x28\n",
        "    img = np.array(img)  # Convert to numpy array\n",
        "    img = 255 - img  # Invert colors (MNIST dataset has white text on black background)\n",
        "    img = img / 255.0  # Normalize pixel values\n",
        "    img = torch.tensor(img, dtype=torch.float32)  # Convert to tensor\n",
        "    img = img.unsqueeze(0).unsqueeze(0)  # Add batch and channel dimensions\n",
        "    return img\n",
        "\n",
        "# URL of the image to be tested\n",
        "image_url = 'https://rasbt.github.io/mlxtend/user_guide/data/mnist_data_files/mnist_data_10_0.png'\n",
        "# Download and preprocess the image\n",
        "img = download_image(image_url)\n",
        "img_tensor = preprocess_image(img)\n",
        "\n",
        "# Make prediction\n",
        "model.eval()\n",
        "with torch.no_grad():\n",
        "    prediction = model(img_tensor)\n",
        "    predicted_label = prediction.argmax().item()\n",
        "\n",
        "print(f'The model predicts the digit in the image is: {predicted_label}')\n",
        "\n",
        "# Visualize the image\n",
        "plt.imshow(img, cmap='gray')\n",
        "plt.title(f'Predicted: {predicted_label}')\n",
        "plt.show()\n"
      ],
      "metadata": {
        "colab": {
          "base_uri": "https://localhost:8080/",
          "height": 469
        },
        "id": "dWN_ch3ypLgy",
        "outputId": "6c6c89ac-c993-44a5-f78e-248d635fec1a"
      },
      "execution_count": 108,
      "outputs": [
        {
          "output_type": "stream",
          "name": "stdout",
          "text": [
            "The model predicts the digit in the image is: 0\n"
          ]
        },
        {
          "output_type": "display_data",
          "data": {
            "text/plain": [
              "<Figure size 640x480 with 1 Axes>"
            ],
            "image/png": "[encoded data removed]"
          },
          "metadata": {}
        }
      ]
    },
    {
      "cell_type": "code",
      "source": [],
      "metadata": {
        "id": "aFwdzv4crJLw"
      },
      "execution_count": null,
      "outputs": []
    }
  ]
}